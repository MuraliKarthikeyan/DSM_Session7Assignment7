{
 "cells": [
  {
   "cell_type": "markdown",
   "metadata": {},
   "source": [
    "# Data Science Masters :Assignment 7"
   ]
  },
  {
   "cell_type": "raw",
   "metadata": {},
   "source": [
    "Given a sequence of n values x1, x2, ..., xn and a window size k>0, the k-th moving\n",
    "average of the given sequence is defined as follows:\n",
    "\n",
    "    The moving average sequence has n-k+1 elements as shown below.\n",
    "    The moving averages with k=4 of a ten-value sequence (n=10) is shown below\n",
    "    i 1 2 3 4 5 6 7 8 9 10\n",
    "        ===== == == == == == == == == == ==\n",
    "    Input 10 20 30 40 50 60 70 80 90 100\n",
    "    y1 25 = (10+20+30+40)/4\n",
    "    y2 35 = (20+30+40+50)/4\n",
    "    y3 45 = (30+40+50+60)/4\n",
    "    y4 55 = (40+50+60+70)/4\n",
    "    y5 65 = (50+60+70+80)/4\n",
    "    y6 75 = (60+70+80+90)/4\n",
    "    y7 85 = (70+80+90+100)/4\n",
    "    \n",
    "    [25, 35, 45, 55, 65, 75, 85]\n",
    "\n",
    "Thus, the moving average sequence has n-k+1=10-4+1=7 values.\n",
    "\n",
    "1.  Write a function to find moving average in an array over a window:\n",
    "    Test it over [3, 5, 7, 2, 8, 10, 11, 65, 72, 81, 99, 100, 150] and window of 3."
   ]
  },
  {
   "cell_type": "code",
   "execution_count": 79,
   "metadata": {},
   "outputs": [
    {
     "name": "stdout",
     "output_type": "stream",
     "text": [
      "Input => [3, 5, 7, 2, 8, 10, 11, 65, 72, 81, 99, 100, 150]\n",
      "Computation Steps: =>\n",
      "5.0  = Total( [3, 5, 7] ) / 3\n",
      "4.67  = Total( [5, 7, 2] ) / 3\n",
      "5.67  = Total( [7, 2, 8] ) / 3\n",
      "6.67  = Total( [2, 8, 10] ) / 3\n",
      "9.67  = Total( [8, 10, 11] ) / 3\n",
      "28.67  = Total( [10, 11, 65] ) / 3\n",
      "49.33  = Total( [11, 65, 72] ) / 3\n",
      "72.67  = Total( [65, 72, 81] ) / 3\n",
      "84.0  = Total( [72, 81, 99] ) / 3\n",
      "93.33  = Total( [81, 99, 100] ) / 3\n",
      "116.33  = Total( [99, 100, 150] ) / 3\n",
      "\n",
      "Moving AVG Sequence => [5.0, 4.67, 5.67, 6.67, 9.67, 28.67, 49.33, 72.67, 84.0, 93.33, 116.33]\n"
     ]
    }
   ],
   "source": [
    "# Solution:\n",
    "# Defining function to compute Moving Avg for the given input list and window of 3...\n",
    "def computeMovingAVG(inputVector,windowSize) :\n",
    "    n =  len(inputVector)-windowSize+1   # Calculating the value of n to find out the number of values in moving avg sequence...\n",
    "    outList = []\n",
    "    for x in range(n):          # Iterating the loop with range(n)...\n",
    "        sum = 0\n",
    "        out = []                # To display computation steps, declaring an empty list to hold the intermediate result..\n",
    "        \n",
    "        for i in range(x,k+x) : # Iterating thru input list with range seq based on the given window size i.e.3 ...\n",
    "            sum += inputVector[i]  # Calculating the sum of values present in the given window...\n",
    "            out.append(inputVector[i])\n",
    "        \n",
    "        # Printing the intermediate result to display the computation of Moving Avg Seq    \n",
    "        print(round((sum/k),2),\" = Total(\",out,\") /\",k) \n",
    "        outList.append(round((sum/k),2))  # Appending the value rounded to 2 decimal places to the output List...\n",
    "    return outList  \n",
    "\n",
    "# Given Input Details...\n",
    "inputList = [3, 5, 7, 2, 8, 10, 11, 65, 72, 81, 99, 100, 150]\n",
    "k = 3 # Size of Window is 3\n",
    "print(\"Input =>\",inputList)\n",
    "print(\"Computation Steps: =>\")\n",
    "# Printing the result List\n",
    "print(\"\\nMoving AVG Sequence =>\",computeMovingAVG(inputList,k))"
   ]
  }
 ],
 "metadata": {
  "kernelspec": {
   "display_name": "Python 3",
   "language": "python",
   "name": "python3"
  },
  "language_info": {
   "codemirror_mode": {
    "name": "ipython",
    "version": 3
   },
   "file_extension": ".py",
   "mimetype": "text/x-python",
   "name": "python",
   "nbconvert_exporter": "python",
   "pygments_lexer": "ipython3",
   "version": "3.6.5"
  }
 },
 "nbformat": 4,
 "nbformat_minor": 2
}
